{
 "cells": [
  {
   "cell_type": "markdown",
   "metadata": {
    "_uuid": "a6909d8469f699289265c40b37f1ed46443e47c8"
   },
   "source": [
    "From  many days I have been thinking if I were to start my own business what would be it?.My Answer is Bakery.I love cooking and I am a foodie.So I will try to get some insights from this Dataset.This is a work in process and I will be updating the Kernel in coming days.If you like my work please do vote.\n",
    "\n",
    "The data belongs to a bakery called \"The Bread Basket\", located in the historic center of Edinburgh. This bakery presents a refreshing offer of Argentine and Spanish products."
   ]
  },
  {
   "cell_type": "code",
   "execution_count": 2,
   "metadata": {
    "_cell_guid": "b1076dfc-b9ad-4769-8c92-a6c4dae69d19",
    "_kg_hide-input": true,
    "_uuid": "8f2839f25d086af736a60e9eeb907d3b93b6e0e5",
    "execution": {
     "iopub.execute_input": "2021-09-27T15:52:48.667430Z",
     "iopub.status.busy": "2021-09-27T15:52:48.667114Z",
     "iopub.status.idle": "2021-09-27T15:52:48.674823Z",
     "shell.execute_reply": "2021-09-27T15:52:48.673411Z",
     "shell.execute_reply.started": "2021-09-27T15:52:48.667381Z"
    }
   },
   "outputs": [],
   "source": [
    "import numpy as np\n",
    "import pandas as pd"
   ]
  },
  {
   "cell_type": "markdown",
   "metadata": {
    "_kg_hide-input": true,
    "_uuid": "bd0b4589dc0cd81d029272073385794a29e0508f"
   },
   "source": [
    "## Importing the modules needed "
   ]
  },
  {
   "cell_type": "code",
   "execution_count": 3,
   "metadata": {
    "_kg_hide-input": true,
    "_uuid": "9fbd6595ba1b08266473c7875dbdf0279e43dc5c",
    "execution": {
     "iopub.execute_input": "2021-09-27T15:52:48.677375Z",
     "iopub.status.busy": "2021-09-27T15:52:48.676996Z",
     "iopub.status.idle": "2021-09-27T15:52:48.692696Z",
     "shell.execute_reply": "2021-09-27T15:52:48.691646Z",
     "shell.execute_reply.started": "2021-09-27T15:52:48.677303Z"
    }
   },
   "outputs": [],
   "source": [
    "import pandas as pd \n",
    "import numpy as np \n",
    "import seaborn as sns\n",
    "import matplotlib.pyplot as plt\n"
   ]
  },
  {
   "cell_type": "markdown",
   "metadata": {
    "_uuid": "7782094839c53b575bb9370d729bd07185c5eaf1"
   },
   "source": [
    "## Importing the data"
   ]
  },
  {
   "cell_type": "code",
   "execution_count": 4,
   "metadata": {
    "_cell_guid": "79c7e3d0-c299-4dcb-8224-4455121ee9b0",
    "_kg_hide-input": true,
    "_uuid": "d629ff2d2480ee46fbb7e2d37f6b5fab8052498a",
    "execution": {
     "iopub.execute_input": "2021-09-27T15:52:48.695058Z",
     "iopub.status.busy": "2021-09-27T15:52:48.694622Z",
     "iopub.status.idle": "2021-09-27T15:52:48.732626Z",
     "shell.execute_reply": "2021-09-27T15:52:48.731861Z",
     "shell.execute_reply.started": "2021-09-27T15:52:48.695017Z"
    }
   },
   "outputs": [],
   "source": [
    "Bak=pd.read_csv('Downloads/bread basket.csv')"
   ]
  },
  {
   "cell_type": "markdown",
   "metadata": {
    "_uuid": "6bac3c66f2fa575926f3ed7f941a29e2c4ab3722"
   },
   "source": [
    "## Displaying the data"
   ]
  },
  {
   "cell_type": "code",
   "execution_count": 5,
   "metadata": {
    "_kg_hide-input": true,
    "_uuid": "64f503cf46f1418c44c72970ecd0485315fdae46",
    "execution": {
     "iopub.execute_input": "2021-09-27T15:52:48.734849Z",
     "iopub.status.busy": "2021-09-27T15:52:48.734394Z",
     "iopub.status.idle": "2021-09-27T15:52:48.750989Z",
     "shell.execute_reply": "2021-09-27T15:52:48.750255Z",
     "shell.execute_reply.started": "2021-09-27T15:52:48.734805Z"
    }
   },
   "outputs": [
    {
     "data": {
      "text/html": [
       "<div>\n",
       "<style scoped>\n",
       "    .dataframe tbody tr th:only-of-type {\n",
       "        vertical-align: middle;\n",
       "    }\n",
       "\n",
       "    .dataframe tbody tr th {\n",
       "        vertical-align: top;\n",
       "    }\n",
       "\n",
       "    .dataframe thead th {\n",
       "        text-align: right;\n",
       "    }\n",
       "</style>\n",
       "<table border=\"1\" class=\"dataframe\">\n",
       "  <thead>\n",
       "    <tr style=\"text-align: right;\">\n",
       "      <th></th>\n",
       "      <th>Transaction</th>\n",
       "      <th>Item</th>\n",
       "      <th>date_time</th>\n",
       "      <th>period_day</th>\n",
       "      <th>weekday_weekend</th>\n",
       "    </tr>\n",
       "  </thead>\n",
       "  <tbody>\n",
       "    <tr>\n",
       "      <th>0</th>\n",
       "      <td>1</td>\n",
       "      <td>Bread</td>\n",
       "      <td>30-10-2016 09:58</td>\n",
       "      <td>morning</td>\n",
       "      <td>weekend</td>\n",
       "    </tr>\n",
       "    <tr>\n",
       "      <th>1</th>\n",
       "      <td>2</td>\n",
       "      <td>Scandinavian</td>\n",
       "      <td>30-10-2016 10:05</td>\n",
       "      <td>morning</td>\n",
       "      <td>weekend</td>\n",
       "    </tr>\n",
       "    <tr>\n",
       "      <th>2</th>\n",
       "      <td>2</td>\n",
       "      <td>Scandinavian</td>\n",
       "      <td>30-10-2016 10:05</td>\n",
       "      <td>morning</td>\n",
       "      <td>weekend</td>\n",
       "    </tr>\n",
       "    <tr>\n",
       "      <th>3</th>\n",
       "      <td>3</td>\n",
       "      <td>Hot chocolate</td>\n",
       "      <td>30-10-2016 10:07</td>\n",
       "      <td>morning</td>\n",
       "      <td>weekend</td>\n",
       "    </tr>\n",
       "    <tr>\n",
       "      <th>4</th>\n",
       "      <td>3</td>\n",
       "      <td>Jam</td>\n",
       "      <td>30-10-2016 10:07</td>\n",
       "      <td>morning</td>\n",
       "      <td>weekend</td>\n",
       "    </tr>\n",
       "  </tbody>\n",
       "</table>\n",
       "</div>"
      ],
      "text/plain": [
       "   Transaction           Item         date_time period_day weekday_weekend\n",
       "0            1          Bread  30-10-2016 09:58    morning         weekend\n",
       "1            2   Scandinavian  30-10-2016 10:05    morning         weekend\n",
       "2            2   Scandinavian  30-10-2016 10:05    morning         weekend\n",
       "3            3  Hot chocolate  30-10-2016 10:07    morning         weekend\n",
       "4            3            Jam  30-10-2016 10:07    morning         weekend"
      ]
     },
     "execution_count": 5,
     "metadata": {},
     "output_type": "execute_result"
    }
   ],
   "source": [
    "Bak.head()"
   ]
  },
  {
   "cell_type": "markdown",
   "metadata": {
    "_uuid": "df0bb6bb30cc5a012a1b25722488e364ae66623b"
   },
   "source": [
    "We can see that the dataset has data of Data,Time,Transaction and the item sold at the bakery."
   ]
  },
  {
   "cell_type": "code",
   "execution_count": 6,
   "metadata": {},
   "outputs": [
    {
     "data": {
      "text/plain": [
       "(20507, 5)"
      ]
     },
     "execution_count": 6,
     "metadata": {},
     "output_type": "execute_result"
    }
   ],
   "source": [
    "Bak.shape"
   ]
  },
  {
   "cell_type": "markdown",
   "metadata": {
    "_uuid": "07547a791e121b2741c64a05989ea9fddea527aa"
   },
   "source": [
    "## Inspecting the data"
   ]
  },
  {
   "cell_type": "code",
   "execution_count": 7,
   "metadata": {
    "_kg_hide-input": true,
    "_uuid": "30cc6d843cbdbc64d1ca062adbc04a059154b337",
    "execution": {
     "iopub.execute_input": "2021-09-27T15:52:48.752355Z",
     "iopub.status.busy": "2021-09-27T15:52:48.751934Z",
     "iopub.status.idle": "2021-09-27T15:52:48.785382Z",
     "shell.execute_reply": "2021-09-27T15:52:48.784390Z",
     "shell.execute_reply.started": "2021-09-27T15:52:48.752313Z"
    }
   },
   "outputs": [
    {
     "data": {
      "text/plain": [
       "Transaction        0\n",
       "Item               0\n",
       "date_time          0\n",
       "period_day         0\n",
       "weekday_weekend    0\n",
       "dtype: int64"
      ]
     },
     "execution_count": 7,
     "metadata": {},
     "output_type": "execute_result"
    }
   ],
   "source": [
    "Bak.isnull().sum()"
   ]
  },
  {
   "cell_type": "markdown",
   "metadata": {
    "_uuid": "c24607cb355a519afd183fac64f303413570a47f"
   },
   "source": [
    "Now we can see that there are no Items with NONE in the dataset"
   ]
  },
  {
   "cell_type": "markdown",
   "metadata": {
    "_uuid": "7a362fe61e3ee01964d9eed323ab6a89c86d27b0"
   },
   "source": [
    "## Dropping none values from the dataset"
   ]
  },
  {
   "cell_type": "code",
   "execution_count": 8,
   "metadata": {},
   "outputs": [],
   "source": [
    "Bak['date_time']=pd.to_datetime(Bak['date_time'])"
   ]
  },
  {
   "cell_type": "code",
   "execution_count": 9,
   "metadata": {},
   "outputs": [],
   "source": [
    "Bak['date']=Bak['date_time'].dt.date\n",
    "Bak['time']=Bak['date_time'].dt.time\n",
    "Bak['month']=Bak['date_time'].dt.month\n",
    "Bak['day']=Bak['date_time'].dt.weekday\n",
    "Bak['hour']=Bak['date_time'].dt.hour"
   ]
  },
  {
   "cell_type": "code",
   "execution_count": 10,
   "metadata": {},
   "outputs": [],
   "source": [
    "Bak['month'] = Bak['month'].replace((1,2,3,4,5,6,7,8,9,10,11,12), \n",
    "                                          ('January','February','March','April','May','June','July','August',\n",
    "                                          'September','October','November','December'))"
   ]
  },
  {
   "cell_type": "code",
   "execution_count": 11,
   "metadata": {},
   "outputs": [],
   "source": [
    "Bak['day'] = Bak['day'].replace((0,1,2,3,4,5,6), \n",
    "                                          ('Monday','Tuesday','Wednesday','Thursday','Friday','Saturday','Sunday'))"
   ]
  },
  {
   "cell_type": "code",
   "execution_count": 12,
   "metadata": {},
   "outputs": [],
   "source": [
    "Bak.drop('date_time', axis = 1, inplace = True)"
   ]
  },
  {
   "cell_type": "code",
   "execution_count": 13,
   "metadata": {
    "_kg_hide-input": true,
    "_kg_hide-output": true,
    "_uuid": "0096e95159486569c0993d7ffffcd6ff86613ee0",
    "execution": {
     "iopub.execute_input": "2021-09-27T15:52:48.841050Z",
     "iopub.status.busy": "2021-09-27T15:52:48.840749Z",
     "iopub.status.idle": "2021-09-27T15:52:48.945441Z",
     "shell.execute_reply": "2021-09-27T15:52:48.944270Z",
     "shell.execute_reply.started": "2021-09-27T15:52:48.840987Z"
    }
   },
   "outputs": [
    {
     "data": {
      "text/html": [
       "<div>\n",
       "<style scoped>\n",
       "    .dataframe tbody tr th:only-of-type {\n",
       "        vertical-align: middle;\n",
       "    }\n",
       "\n",
       "    .dataframe tbody tr th {\n",
       "        vertical-align: top;\n",
       "    }\n",
       "\n",
       "    .dataframe thead th {\n",
       "        text-align: right;\n",
       "    }\n",
       "</style>\n",
       "<table border=\"1\" class=\"dataframe\">\n",
       "  <thead>\n",
       "    <tr style=\"text-align: right;\">\n",
       "      <th></th>\n",
       "      <th>Transaction</th>\n",
       "      <th>Item</th>\n",
       "      <th>period_day</th>\n",
       "      <th>weekday_weekend</th>\n",
       "      <th>date</th>\n",
       "      <th>time</th>\n",
       "      <th>month</th>\n",
       "      <th>day</th>\n",
       "      <th>hour</th>\n",
       "    </tr>\n",
       "  </thead>\n",
       "  <tbody>\n",
       "    <tr>\n",
       "      <th>0</th>\n",
       "      <td>1</td>\n",
       "      <td>Bread</td>\n",
       "      <td>morning</td>\n",
       "      <td>weekend</td>\n",
       "      <td>2016-10-30</td>\n",
       "      <td>09:58:00</td>\n",
       "      <td>October</td>\n",
       "      <td>Sunday</td>\n",
       "      <td>9</td>\n",
       "    </tr>\n",
       "    <tr>\n",
       "      <th>1</th>\n",
       "      <td>2</td>\n",
       "      <td>Scandinavian</td>\n",
       "      <td>morning</td>\n",
       "      <td>weekend</td>\n",
       "      <td>2016-10-30</td>\n",
       "      <td>10:05:00</td>\n",
       "      <td>October</td>\n",
       "      <td>Sunday</td>\n",
       "      <td>10</td>\n",
       "    </tr>\n",
       "    <tr>\n",
       "      <th>2</th>\n",
       "      <td>2</td>\n",
       "      <td>Scandinavian</td>\n",
       "      <td>morning</td>\n",
       "      <td>weekend</td>\n",
       "      <td>2016-10-30</td>\n",
       "      <td>10:05:00</td>\n",
       "      <td>October</td>\n",
       "      <td>Sunday</td>\n",
       "      <td>10</td>\n",
       "    </tr>\n",
       "    <tr>\n",
       "      <th>3</th>\n",
       "      <td>3</td>\n",
       "      <td>Hot chocolate</td>\n",
       "      <td>morning</td>\n",
       "      <td>weekend</td>\n",
       "      <td>2016-10-30</td>\n",
       "      <td>10:07:00</td>\n",
       "      <td>October</td>\n",
       "      <td>Sunday</td>\n",
       "      <td>10</td>\n",
       "    </tr>\n",
       "    <tr>\n",
       "      <th>4</th>\n",
       "      <td>3</td>\n",
       "      <td>Jam</td>\n",
       "      <td>morning</td>\n",
       "      <td>weekend</td>\n",
       "      <td>2016-10-30</td>\n",
       "      <td>10:07:00</td>\n",
       "      <td>October</td>\n",
       "      <td>Sunday</td>\n",
       "      <td>10</td>\n",
       "    </tr>\n",
       "  </tbody>\n",
       "</table>\n",
       "</div>"
      ],
      "text/plain": [
       "   Transaction           Item period_day weekday_weekend        date  \\\n",
       "0            1          Bread    morning         weekend  2016-10-30   \n",
       "1            2   Scandinavian    morning         weekend  2016-10-30   \n",
       "2            2   Scandinavian    morning         weekend  2016-10-30   \n",
       "3            3  Hot chocolate    morning         weekend  2016-10-30   \n",
       "4            3            Jam    morning         weekend  2016-10-30   \n",
       "\n",
       "       time    month     day  hour  \n",
       "0  09:58:00  October  Sunday     9  \n",
       "1  10:05:00  October  Sunday    10  \n",
       "2  10:05:00  October  Sunday    10  \n",
       "3  10:07:00  October  Sunday    10  \n",
       "4  10:07:00  October  Sunday    10  "
      ]
     },
     "execution_count": 13,
     "metadata": {},
     "output_type": "execute_result"
    }
   ],
   "source": [
    "Bak.head()"
   ]
  },
  {
   "cell_type": "markdown",
   "metadata": {
    "_uuid": "344eb22be41bb870130c68a76a00021b910a5ff5"
   },
   "source": [
    "## Finding out the items that are sold at the Bakery"
   ]
  },
  {
   "cell_type": "code",
   "execution_count": 14,
   "metadata": {
    "_kg_hide-input": true,
    "_uuid": "2af7ed91d2666741b92882eed458ac63adede08a",
    "execution": {
     "iopub.execute_input": "2021-09-27T15:52:48.946806Z",
     "iopub.status.busy": "2021-09-27T15:52:48.946555Z",
     "iopub.status.idle": "2021-09-27T15:52:48.952887Z",
     "shell.execute_reply": "2021-09-27T15:52:48.951912Z",
     "shell.execute_reply.started": "2021-09-27T15:52:48.946764Z"
    }
   },
   "outputs": [
    {
     "name": "stdout",
     "output_type": "stream",
     "text": [
      "Total number of Items sold at the bakery is: 94\n"
     ]
    }
   ],
   "source": [
    "print('Total number of Items sold at the bakery is:',Bak['Item'].nunique())"
   ]
  },
  {
   "cell_type": "code",
   "execution_count": 15,
   "metadata": {
    "_kg_hide-input": true,
    "_kg_hide-output": true,
    "_uuid": "6c418d516878fd002dd63737f02d43c48d79b966",
    "execution": {
     "iopub.execute_input": "2021-09-27T15:52:48.956578Z",
     "iopub.status.busy": "2021-09-27T15:52:48.956298Z",
     "iopub.status.idle": "2021-09-27T15:52:48.970337Z",
     "shell.execute_reply": "2021-09-27T15:52:48.969278Z",
     "shell.execute_reply.started": "2021-09-27T15:52:48.956530Z"
    }
   },
   "outputs": [
    {
     "name": "stdout",
     "output_type": "stream",
     "text": [
      "List of Items sold at the bakery:\n"
     ]
    },
    {
     "data": {
      "text/plain": [
       "array(['Bread', 'Scandinavian', 'Hot chocolate', 'Jam', 'Cookies',\n",
       "       'Muffin', 'Coffee', 'Pastry', 'Medialuna', 'Tea', 'Tartine',\n",
       "       'Basket', 'Mineral water', 'Farm House', 'Fudge', 'Juice',\n",
       "       \"Ella's Kitchen Pouches\", 'Victorian Sponge', 'Frittata',\n",
       "       'Hearty & Seasonal', 'Soup', 'Pick and Mix Bowls', 'Smoothies',\n",
       "       'Cake', 'Mighty Protein', 'Chicken sand', 'Coke',\n",
       "       'My-5 Fruit Shoot', 'Focaccia', 'Sandwich', 'Alfajores', 'Eggs',\n",
       "       'Brownie', 'Dulce de Leche', 'Honey', 'The BART', 'Granola',\n",
       "       'Fairy Doors', 'Empanadas', 'Keeping It Local', 'Art Tray',\n",
       "       'Bowl Nic Pitt', 'Bread Pudding', 'Adjustment', 'Truffles',\n",
       "       'Chimichurri Oil', 'Bacon', 'Spread', 'Kids biscuit', 'Siblings',\n",
       "       'Caramel bites', 'Jammie Dodgers', 'Tiffin', 'Olum & polenta',\n",
       "       'Polenta', 'The Nomad', 'Hack the stack', 'Bakewell',\n",
       "       'Lemon and coconut', 'Toast', 'Scone', 'Crepes', 'Vegan mincepie',\n",
       "       'Bare Popcorn', 'Muesli', 'Crisps', 'Pintxos', 'Gingerbread syrup',\n",
       "       'Panatone', 'Brioche and salami', 'Afternoon with the baker',\n",
       "       'Salad', 'Chicken Stew', 'Spanish Brunch',\n",
       "       'Raspberry shortbread sandwich', 'Extra Salami or Feta',\n",
       "       'Duck egg', 'Baguette', \"Valentine's card\", 'Tshirt',\n",
       "       'Vegan Feast', 'Postcard', 'Nomad bag', 'Chocolates',\n",
       "       'Coffee granules ', 'Drinking chocolate spoons ',\n",
       "       'Christmas common', 'Argentina Night', 'Half slice Monster ',\n",
       "       'Gift voucher', 'Cherry me Dried fruit', 'Mortimer', 'Raw bars',\n",
       "       'Tacos/Fajita'], dtype=object)"
      ]
     },
     "execution_count": 15,
     "metadata": {},
     "output_type": "execute_result"
    }
   ],
   "source": [
    "print('List of Items sold at the bakery:')\n",
    "Bak['Item'].unique()"
   ]
  },
  {
   "cell_type": "code",
   "execution_count": 16,
   "metadata": {},
   "outputs": [
    {
     "data": {
      "text/plain": [
       "{'Coffee': 5471,\n",
       " 'Bread': 3325,\n",
       " 'Tea': 1435,\n",
       " 'Cake': 1025,\n",
       " 'Pastry': 856,\n",
       " 'Sandwich': 771,\n",
       " 'Medialuna': 616,\n",
       " 'Hot chocolate': 590,\n",
       " 'Cookies': 540,\n",
       " 'Brownie': 379,\n",
       " 'Farm House': 374,\n",
       " 'Muffin': 370,\n",
       " 'Alfajores': 369,\n",
       " 'Juice': 369,\n",
       " 'Soup': 342,\n",
       " 'Scone': 327,\n",
       " 'Toast': 318,\n",
       " 'Scandinavian': 277,\n",
       " 'Truffles': 193,\n",
       " 'Coke': 185,\n",
       " 'Spanish Brunch': 172,\n",
       " 'Fudge': 159,\n",
       " 'Baguette': 152,\n",
       " 'Jam': 149,\n",
       " 'Tiffin': 146,\n",
       " 'Mineral water': 136,\n",
       " 'Jammie Dodgers': 125,\n",
       " 'Chicken Stew': 123,\n",
       " 'Hearty & Seasonal': 107,\n",
       " 'Salad': 99,\n",
       " 'Frittata': 81,\n",
       " 'Smoothies': 77,\n",
       " 'Keeping It Local': 63,\n",
       " 'The Nomad': 58,\n",
       " 'Vegan mincepie': 54,\n",
       " 'Focaccia': 54,\n",
       " 'Bakewell': 48,\n",
       " 'Tartine': 47,\n",
       " 'Afternoon with the baker': 44,\n",
       " 'Art Tray': 38,\n",
       " 'Extra Salami or Feta': 38,\n",
       " 'Eggs': 28,\n",
       " 'Granola': 28,\n",
       " 'Tshirt': 21,\n",
       " 'My-5 Fruit Shoot': 18,\n",
       " \"Ella's Kitchen Pouches\": 17,\n",
       " 'Vegan Feast': 16,\n",
       " 'Crisps': 14,\n",
       " 'Dulce de Leche': 13,\n",
       " \"Valentine's card\": 13,\n",
       " 'Duck egg': 12,\n",
       " 'Kids biscuit': 12,\n",
       " 'Pick and Mix Bowls': 12,\n",
       " 'Christmas common': 11,\n",
       " 'Mighty Protein': 11,\n",
       " 'Tacos/Fajita': 11,\n",
       " 'Chocolates': 10,\n",
       " 'Postcard': 10,\n",
       " 'Gingerbread syrup': 9,\n",
       " 'Drinking chocolate spoons ': 8,\n",
       " 'Nomad bag': 8,\n",
       " 'Muesli': 8,\n",
       " 'Empanadas': 7,\n",
       " 'Argentina Night': 7,\n",
       " 'Coffee granules ': 7,\n",
       " 'Victorian Sponge': 7,\n",
       " 'Lemon and coconut': 6,\n",
       " 'Honey': 6,\n",
       " 'Pintxos': 6,\n",
       " 'Basket': 6,\n",
       " 'Crepes': 6,\n",
       " 'Half slice Monster ': 6,\n",
       " 'Mortimer': 5,\n",
       " 'Bare Popcorn': 5,\n",
       " 'Panatone': 5,\n",
       " 'Bread Pudding': 4,\n",
       " 'Caramel bites': 3,\n",
       " 'Cherry me Dried fruit': 3,\n",
       " 'Brioche and salami': 3,\n",
       " 'Raspberry shortbread sandwich': 3,\n",
       " 'Spread': 2,\n",
       " 'Fairy Doors': 2,\n",
       " 'Bowl Nic Pitt': 2,\n",
       " 'Siblings': 2,\n",
       " 'Chimichurri Oil': 2,\n",
       " 'Hack the stack': 2,\n",
       " 'The BART': 1,\n",
       " 'Chicken sand': 1,\n",
       " 'Gift voucher': 1,\n",
       " 'Raw bars': 1,\n",
       " 'Polenta': 1,\n",
       " 'Bacon': 1,\n",
       " 'Adjustment': 1,\n",
       " 'Olum & polenta': 1}"
      ]
     },
     "execution_count": 16,
     "metadata": {},
     "output_type": "execute_result"
    }
   ],
   "source": [
    "text = Bak['Item'].value_counts().to_dict()\n",
    "text"
   ]
  },
  {
   "cell_type": "code",
   "execution_count": 17,
   "metadata": {},
   "outputs": [
    {
     "data": {
      "image/png": "[encoded data removed]",
      "text/plain": [
       "<Figure size 576x576 with 1 Axes>"
      ]
     },
     "metadata": {
      "needs_background": "light"
     },
     "output_type": "display_data"
    }
   ],
   "source": [
    "from wordcloud import WordCloud, STOPWORDS\n",
    "stopwords = set(STOPWORDS)\n",
    "wordcloud = WordCloud(width = 1800, height = 1200,\n",
    "                background_color ='white',\n",
    "                stopwords = stopwords,\n",
    "                max_words=200,\n",
    "                min_font_size = 20).generate_from_frequencies(text)\n",
    " \n",
    "# plot the WordCloud image                      \n",
    "plt.figure(figsize = (8, 8), facecolor = None)\n",
    "plt.imshow(wordcloud)\n",
    "plt.axis(\"off\")\n",
    "plt.tight_layout(pad = 0)\n",
    " \n",
    "plt.show()"
   ]
  },
  {
   "cell_type": "code",
   "execution_count": 18,
   "metadata": {
    "_kg_hide-input": true,
    "_uuid": "9506080367af76cdba99fb017f4a8627cd6cd3df",
    "execution": {
     "iopub.execute_input": "2021-09-27T15:52:48.973700Z",
     "iopub.status.busy": "2021-09-27T15:52:48.973246Z",
     "iopub.status.idle": "2021-09-27T15:52:48.986876Z",
     "shell.execute_reply": "2021-09-27T15:52:48.985780Z",
     "shell.execute_reply.started": "2021-09-27T15:52:48.973639Z"
    }
   },
   "outputs": [
    {
     "name": "stdout",
     "output_type": "stream",
     "text": [
      "List of Items sold at the Bakery:\n",
      "\n",
      "Drinking chocolate spoons \n",
      "Coffee granules \n",
      "Brioche and salami\n",
      "The BART\n",
      "Empanadas\n",
      "Truffles\n",
      "Gift voucher\n",
      "Art Tray\n",
      "Mineral water\n",
      "Siblings\n",
      "Spread\n",
      "My-5 Fruit Shoot\n",
      "Crepes\n",
      "Fudge\n",
      "Scone\n",
      "Focaccia\n",
      "Chicken Stew\n",
      "Christmas common\n",
      "Cake\n",
      "Raw bars\n",
      "Brownie\n",
      "Caramel bites\n",
      "Mighty Protein\n",
      "Ella's Kitchen Pouches\n",
      "Jam\n",
      "Tiffin\n",
      "Muffin\n",
      "Chocolates\n",
      "Muesli\n",
      "Victorian Sponge\n",
      "Juice\n",
      "Medialuna\n",
      "Bare Popcorn\n",
      "Polenta\n",
      "Dulce de Leche\n",
      "Tea\n",
      "Panatone\n",
      "Bread Pudding\n",
      "Afternoon with the baker\n",
      "Chicken sand\n",
      "Basket\n",
      "Eggs\n",
      "Farm House\n",
      "Coke\n",
      "Postcard\n",
      "Argentina Night\n",
      "Hack the stack\n",
      "Baguette\n",
      "Pintxos\n",
      "Half slice Monster \n",
      "Spanish Brunch\n",
      "Mortimer\n",
      "Jammie Dodgers\n",
      "Salad\n",
      "Chimichurri Oil\n",
      "Tartine\n",
      "Gingerbread syrup\n",
      "Vegan mincepie\n",
      "Raspberry shortbread sandwich\n",
      "Tshirt\n",
      "Pick and Mix Bowls\n",
      "Kids biscuit\n",
      "Olum & polenta\n",
      "Cherry me Dried fruit\n",
      "Extra Salami or Feta\n",
      "Bread\n",
      "The Nomad\n",
      "Toast\n",
      "Alfajores\n",
      "Hearty & Seasonal\n",
      "Nomad bag\n",
      "Hot chocolate\n",
      "Bacon\n",
      "Sandwich\n",
      "Vegan Feast\n",
      "Lemon and coconut\n",
      "Honey\n",
      "Bowl Nic Pitt\n",
      "Keeping It Local\n",
      "Bakewell\n",
      "Crisps\n",
      "Coffee\n",
      "Scandinavian\n",
      "Adjustment\n",
      "Pastry\n",
      "Duck egg\n",
      "Granola\n",
      "Smoothies\n",
      "Tacos/Fajita\n",
      "Cookies\n",
      "Valentine's card\n",
      "Frittata\n",
      "Fairy Doors\n",
      "Soup\n"
     ]
    }
   ],
   "source": [
    "print('List of Items sold at the Bakery:\\n')\n",
    "for item in set(Bak['Item']):\n",
    "    print(item)"
   ]
  },
  {
   "cell_type": "code",
   "execution_count": 19,
   "metadata": {
    "_kg_hide-input": true,
    "_kg_hide-output": true,
    "_uuid": "13c11a90d2f1a475ee93334d58b67b22867c18e6",
    "execution": {
     "iopub.execute_input": "2021-09-27T15:52:48.988354Z",
     "iopub.status.busy": "2021-09-27T15:52:48.988074Z",
     "iopub.status.idle": "2021-09-27T15:52:49.011632Z",
     "shell.execute_reply": "2021-09-27T15:52:49.010617Z",
     "shell.execute_reply.started": "2021-09-27T15:52:48.988303Z"
    }
   },
   "outputs": [
    {
     "name": "stdout",
     "output_type": "stream",
     "text": [
      "Ten Most Sold Items At The Bakery\n"
     ]
    },
    {
     "data": {
      "text/plain": [
       "Coffee           5471\n",
       "Bread            3325\n",
       "Tea              1435\n",
       "Cake             1025\n",
       "Pastry            856\n",
       "Sandwich          771\n",
       "Medialuna         616\n",
       "Hot chocolate     590\n",
       "Cookies           540\n",
       "Brownie           379\n",
       "Name: Item, dtype: int64"
      ]
     },
     "execution_count": 19,
     "metadata": {},
     "output_type": "execute_result"
    }
   ],
   "source": [
    "print('Ten Most Sold Items At The Bakery')\n",
    "Bak['Item'].value_counts().head(10)"
   ]
  },
  {
   "cell_type": "code",
   "execution_count": 20,
   "metadata": {
    "_kg_hide-input": true,
    "_uuid": "1602b98b2b274fa8d6cb9452b5bc2569991de24a",
    "execution": {
     "iopub.execute_input": "2021-09-27T15:52:49.013062Z",
     "iopub.status.busy": "2021-09-27T15:52:49.012798Z",
     "iopub.status.idle": "2021-09-27T15:52:49.532515Z",
     "shell.execute_reply": "2021-09-27T15:52:49.531528Z",
     "shell.execute_reply.started": "2021-09-27T15:52:49.013018Z"
    },
    "scrolled": false
   },
   "outputs": [
    {
     "data": {
      "image/png": "[encoded data removed]",
      "text/plain": [
       "<Figure size 1152x504 with 1 Axes>"
      ]
     },
     "metadata": {
      "needs_background": "light"
     },
     "output_type": "display_data"
    }
   ],
   "source": [
    "fig, ax=plt.subplots(figsize=(16,7))\n",
    "Bak['Item'].value_counts().sort_values(ascending=False).head(20).plot.bar(width=0.5,edgecolor='k',align='center',linewidth=2)\n",
    "plt.xlabel('Food Item',fontsize=20)\n",
    "plt.ylabel('Number of transactions',fontsize=20)\n",
    "ax.tick_params(labelsize=20)\n",
    "#plt.title('20 Most Sold Items at the Bakery',fontsize=25)\n",
    "plt.grid()\n",
    "plt.ioff()"
   ]
  },
  {
   "cell_type": "markdown",
   "metadata": {
    "_uuid": "075614400200680c22a8ea83d1b6bc914d3d9626"
   },
   "source": [
    "Coffee,Bread,Tea,Cake and Pastry are the most sold item at the bakery.Just like in any business we can see that out of 94 items 3 items contribute to close to 50% of the sales.This is Pareto's principle at play in the Bakery Business."
   ]
  },
  {
   "cell_type": "markdown",
   "metadata": {
    "_uuid": "b14ab42e690c7a151f419ac9590e556799701e4c"
   },
   "source": [
    "## Business during different times of the day"
   ]
  },
  {
   "cell_type": "code",
   "execution_count": 34,
   "metadata": {
    "_kg_hide-input": true,
    "_uuid": "5931b6e23f9bf275768f436f9a7416d65c66486b",
    "execution": {
     "iopub.execute_input": "2021-09-27T15:52:49.604203Z",
     "iopub.status.busy": "2021-09-27T15:52:49.603952Z",
     "iopub.status.idle": "2021-09-27T15:52:50.001216Z",
     "shell.execute_reply": "2021-09-27T15:52:50.000095Z",
     "shell.execute_reply.started": "2021-09-27T15:52:49.604160Z"
    }
   },
   "outputs": [
    {
     "data": {
      "image/png": "[encoded data removed]",
      "text/plain": [
       "<Figure size 864x360 with 1 Axes>"
      ]
     },
     "metadata": {
      "needs_background": "light"
     },
     "output_type": "display_data"
    }
   ],
   "source": [
    "coutbyweekday=Bak.groupby('period_day')['Transaction'].count().reset_index()\n",
    "coutbyweekday.sort_values('period_day',inplace=True)\n",
    "\n",
    "\n",
    "plt.figure(figsize=(12,5))\n",
    "sns.countplot(Bak['period_day'])\n",
    "plt.xlabel('period day',fontsize=20)\n",
    "plt.ylabel('Transaction',fontsize=20)\n",
    "#plt.title('Sales uring different period of the day',fontsize=25)\n",
    "plt.show()"
   ]
  },
  {
   "cell_type": "markdown",
   "metadata": {
    "_uuid": "ce5552597eb4985b0b3606dbc7cab4011104bbd4"
   },
   "source": [
    "Morning upto 12 pm ,Afternoon 12-5 pm,Evening 5-8 pm and Night 8-11.30 pm.We can see from the above plot that the maximum sales happen in the afternoon followed by morning.Evening and Night sales is very less.I am wondering why sales are less in evening and night?.This could be because in cold countries people are reluctant to step out of house in evening and night."
   ]
  },
  {
   "cell_type": "markdown",
   "metadata": {
    "_uuid": "4311b1bc4c3b8250a37bc887e98f30ba8f897c98"
   },
   "source": [
    "## Sales on different days of the week"
   ]
  },
  {
   "cell_type": "code",
   "execution_count": 40,
   "metadata": {
    "_kg_hide-input": true,
    "_uuid": "a7470f4540a10a56ae810919504bc7ec37be7c46",
    "execution": {
     "iopub.execute_input": "2021-09-27T15:52:50.002763Z",
     "iopub.status.busy": "2021-09-27T15:52:50.002310Z",
     "iopub.status.idle": "2021-09-27T15:52:50.013558Z",
     "shell.execute_reply": "2021-09-27T15:52:50.012587Z",
     "shell.execute_reply.started": "2021-09-27T15:52:50.002714Z"
    }
   },
   "outputs": [
    {
     "data": {
      "image/png": "[encoded data removed]",
      "text/plain": [
       "<Figure size 864x360 with 1 Axes>"
      ]
     },
     "metadata": {
      "needs_background": "light"
     },
     "output_type": "display_data"
    }
   ],
   "source": [
    "coutbydayp=Bak.groupby('day')['Transaction'].count().reset_index()\n",
    "#coutbydayp.sort_values('day',inplace=True)\n",
    "\n",
    "plt.figure(figsize=(12,5))\n",
    "Bak['day'].value_counts(dropna = False).plot.bar(color=[\"purple\",\"royalblue\",\"firebrick\",\"gold\",\"hotpink\",\"orange\",\"yellowgreen\"])\n",
    "plt.xlabel('day',fontsize=20)\n",
    "plt.ylabel('Transaction',fontsize=20)\n",
    "#plt.title('Transaction per day of the week',fontsize=25)\n",
    "plt.show()"
   ]
  },
  {
   "cell_type": "markdown",
   "metadata": {
    "_uuid": "d848437e542bde92e754a1a3f612912d0b2159d5"
   },
   "source": [
    "We can see that maximum sales take place on saturday.This could be beacuse more tourist visit the bakery on weekends."
   ]
  },
  {
   "cell_type": "code",
   "execution_count": 23,
   "metadata": {},
   "outputs": [
    {
     "data": {
      "image/png": "[encoded data removed]",
      "text/plain": [
       "<Figure size 864x360 with 1 Axes>"
      ]
     },
     "metadata": {},
     "output_type": "display_data"
    }
   ],
   "source": [
    "size = [12807, 7700]\n",
    "labels = \"weekday\", \"weekend\"\n",
    "colors = [\"brown\", \"lightblue\"]\n",
    "explode = [0, 0.1]\n",
    "\n",
    "\n",
    "plt.figure(figsize=(12,5))\n",
    "plt.pie(size, labels = labels, colors = colors, explode = explode, shadow = True, autopct = \"%.2f%%\")\n",
    "#plt.xlabel('weekday_weekend')\n",
    "#plt.ylabel('Transaction')\n",
    "plt.title('Transaction by week period')\n",
    "plt.show()"
   ]
  },
  {
   "cell_type": "markdown",
   "metadata": {
    "_uuid": "8496f72465c3b43f24dc4886664a91fe751e5ddf"
   },
   "source": [
    "## Sales on different Months of the year"
   ]
  },
  {
   "cell_type": "code",
   "execution_count": 42,
   "metadata": {
    "_kg_hide-input": true,
    "_uuid": "ce84cbcf82317041ac27f7cffbc51fcf7e9a922d",
    "execution": {
     "iopub.execute_input": "2021-09-27T15:52:50.791341Z",
     "iopub.status.busy": "2021-09-27T15:52:50.791104Z",
     "iopub.status.idle": "2021-09-27T15:52:51.176076Z",
     "shell.execute_reply": "2021-09-27T15:52:51.174971Z",
     "shell.execute_reply.started": "2021-09-27T15:52:50.791298Z"
    }
   },
   "outputs": [
    {
     "data": {
      "image/png": "[encoded data removed]",
      "text/plain": [
       "<Figure size 864x360 with 1 Axes>"
      ]
     },
     "metadata": {
      "needs_background": "light"
     },
     "output_type": "display_data"
    }
   ],
   "source": [
    "coutbymonth=Bak.groupby('month')['Transaction'].count().reset_index()\n",
    "coutbymonth.sort_values('month',inplace=True)\n",
    "\n",
    "fig = plt.figure(figsize=(12,5))\n",
    "sns.barplot(x=coutbymonth['month'], y=coutbymonth['Transaction'])\n",
    "plt.xlabel('Month',fontsize=20)\n",
    "plt.ylabel('Transaction',fontsize=20)\n",
    "#plt.title('Transaction per month',fontsize=25)\n",
    "plt.show()"
   ]
  },
  {
   "cell_type": "markdown",
   "metadata": {
    "_uuid": "ed51d44eb00def0d2a5606b68348ece40fac4215"
   },
   "source": [
    "We see that highest sale was in month of March."
   ]
  },
  {
   "cell_type": "markdown",
   "metadata": {
    "_uuid": "69cffcb25e18a975e78024c1eee5d170cf283b65"
   },
   "source": [
    "## Association Rule Mining via Apriori Algorithm \n",
    "Apriori algorithm was proposed by Agrawal and Srikant in 1994. Apriori is designed to operate on databases containing transactions (for example, collections of items bought by customers, or details of a website frequentation or IP addresses).This algorithm is used to find out the association between the items brought at the bakery.Generally transactions have a pattern and finding out the pattern helps us to increase business.For example mothers with babies generally buy milk and diapers together.So at the mall or supermarket if we keep milk and diapers together this can increase our sales.Support,Confidence and Lift are the three important terms used in Apriori Algorithm.\n",
    "\n",
    "For example in a mall we have total of 1000 transactions.Out  of this in 150 transcations beer is purchased and 100 times chips is purchased.Beer and Chips are brough together 50 times.We can calculate support,confidence and lift for this case as follows \n",
    "\n",
    "**Support**\n",
    "\n",
    "Support (Chips))=Transactions containing(Chips)/Total transcations\n",
    "\n",
    "Support(Beer)=100/1000\n",
    "                         =10%\n",
    "                         \n",
    "**Confidence**\n",
    "\n",
    "Confidence(Beer-->Chips)=Transcations containing both (Beer and Chips)/Transcations containing Beer\n",
    "\n",
    "Confidence(Beer-->Chips)=50/150\n",
    "                                              =33.3%\n",
    "                                              \n",
    "** Lift **\n",
    "\n",
    " Lift(Beer-->Chips)=Confidence(Beer-->Chips)/Support(Chips)\n",
    " \n",
    "  Lift(Beer-->Chips)=33.3/10\n",
    "                                  =3.3"
   ]
  },
  {
   "cell_type": "markdown",
   "metadata": {
    "_uuid": "2d93fa15a39aa9e2daa2ce0aa423172b1a6916be"
   },
   "source": [
    "## Importing the modules for Apriori algorithm"
   ]
  },
  {
   "cell_type": "code",
   "execution_count": 25,
   "metadata": {
    "_kg_hide-input": true,
    "_uuid": "1e92a8ab2ecf3881d783306f8aa34fc999d136e8",
    "execution": {
     "iopub.execute_input": "2021-09-27T15:52:51.177594Z",
     "iopub.status.busy": "2021-09-27T15:52:51.177319Z",
     "iopub.status.idle": "2021-09-27T15:52:51.210415Z",
     "shell.execute_reply": "2021-09-27T15:52:51.209579Z",
     "shell.execute_reply.started": "2021-09-27T15:52:51.177548Z"
    }
   },
   "outputs": [],
   "source": [
    "from mlxtend.frequent_patterns import apriori\n",
    "from mlxtend.frequent_patterns import association_rules"
   ]
  },
  {
   "cell_type": "code",
   "execution_count": 26,
   "metadata": {
    "_kg_hide-input": true,
    "_uuid": "c652c27d213087ebaa4df5d5b89984418bec6c9a",
    "execution": {
     "iopub.execute_input": "2021-09-27T15:52:51.211819Z",
     "iopub.status.busy": "2021-09-27T15:52:51.211411Z",
     "iopub.status.idle": "2021-09-27T15:52:51.264268Z",
     "shell.execute_reply": "2021-09-27T15:52:51.263134Z",
     "shell.execute_reply.started": "2021-09-27T15:52:51.211768Z"
    }
   },
   "outputs": [],
   "source": [
    "hot_encoded_Bak=Bak.groupby(['Transaction','Item'])['Item'].count().unstack().reset_index().fillna(0).set_index('Transaction')\n",
    "#Above line of code is transfrom data to make items as columns and each transaction as a row and count same Items bought in one transaction but fill other cloumns of the row with 0 to represent item which are not bought."
   ]
  },
  {
   "cell_type": "code",
   "execution_count": 27,
   "metadata": {
    "_uuid": "1d427000925db1320d0cae42269446e2719915c8",
    "execution": {
     "iopub.execute_input": "2021-09-27T15:52:51.265767Z",
     "iopub.status.busy": "2021-09-27T15:52:51.265323Z",
     "iopub.status.idle": "2021-09-27T15:52:51.415023Z",
     "shell.execute_reply": "2021-09-27T15:52:51.414158Z",
     "shell.execute_reply.started": "2021-09-27T15:52:51.265714Z"
    }
   },
   "outputs": [
    {
     "data": {
      "text/html": [
       "<div>\n",
       "<style scoped>\n",
       "    .dataframe tbody tr th:only-of-type {\n",
       "        vertical-align: middle;\n",
       "    }\n",
       "\n",
       "    .dataframe tbody tr th {\n",
       "        vertical-align: top;\n",
       "    }\n",
       "\n",
       "    .dataframe thead th {\n",
       "        text-align: right;\n",
       "    }\n",
       "</style>\n",
       "<table border=\"1\" class=\"dataframe\">\n",
       "  <thead>\n",
       "    <tr style=\"text-align: right;\">\n",
       "      <th>Item</th>\n",
       "      <th>Adjustment</th>\n",
       "      <th>Afternoon with the baker</th>\n",
       "      <th>Alfajores</th>\n",
       "      <th>Argentina Night</th>\n",
       "      <th>Art Tray</th>\n",
       "      <th>Bacon</th>\n",
       "      <th>Baguette</th>\n",
       "      <th>Bakewell</th>\n",
       "      <th>Bare Popcorn</th>\n",
       "      <th>Basket</th>\n",
       "      <th>...</th>\n",
       "      <th>The BART</th>\n",
       "      <th>The Nomad</th>\n",
       "      <th>Tiffin</th>\n",
       "      <th>Toast</th>\n",
       "      <th>Truffles</th>\n",
       "      <th>Tshirt</th>\n",
       "      <th>Valentine's card</th>\n",
       "      <th>Vegan Feast</th>\n",
       "      <th>Vegan mincepie</th>\n",
       "      <th>Victorian Sponge</th>\n",
       "    </tr>\n",
       "    <tr>\n",
       "      <th>Transaction</th>\n",
       "      <th></th>\n",
       "      <th></th>\n",
       "      <th></th>\n",
       "      <th></th>\n",
       "      <th></th>\n",
       "      <th></th>\n",
       "      <th></th>\n",
       "      <th></th>\n",
       "      <th></th>\n",
       "      <th></th>\n",
       "      <th></th>\n",
       "      <th></th>\n",
       "      <th></th>\n",
       "      <th></th>\n",
       "      <th></th>\n",
       "      <th></th>\n",
       "      <th></th>\n",
       "      <th></th>\n",
       "      <th></th>\n",
       "      <th></th>\n",
       "      <th></th>\n",
       "    </tr>\n",
       "  </thead>\n",
       "  <tbody>\n",
       "    <tr>\n",
       "      <th>1</th>\n",
       "      <td>0.0</td>\n",
       "      <td>0.0</td>\n",
       "      <td>0.0</td>\n",
       "      <td>0.0</td>\n",
       "      <td>0.0</td>\n",
       "      <td>0.0</td>\n",
       "      <td>0.0</td>\n",
       "      <td>0.0</td>\n",
       "      <td>0.0</td>\n",
       "      <td>0.0</td>\n",
       "      <td>...</td>\n",
       "      <td>0.0</td>\n",
       "      <td>0.0</td>\n",
       "      <td>0.0</td>\n",
       "      <td>0.0</td>\n",
       "      <td>0.0</td>\n",
       "      <td>0.0</td>\n",
       "      <td>0.0</td>\n",
       "      <td>0.0</td>\n",
       "      <td>0.0</td>\n",
       "      <td>0.0</td>\n",
       "    </tr>\n",
       "    <tr>\n",
       "      <th>2</th>\n",
       "      <td>0.0</td>\n",
       "      <td>0.0</td>\n",
       "      <td>0.0</td>\n",
       "      <td>0.0</td>\n",
       "      <td>0.0</td>\n",
       "      <td>0.0</td>\n",
       "      <td>0.0</td>\n",
       "      <td>0.0</td>\n",
       "      <td>0.0</td>\n",
       "      <td>0.0</td>\n",
       "      <td>...</td>\n",
       "      <td>0.0</td>\n",
       "      <td>0.0</td>\n",
       "      <td>0.0</td>\n",
       "      <td>0.0</td>\n",
       "      <td>0.0</td>\n",
       "      <td>0.0</td>\n",
       "      <td>0.0</td>\n",
       "      <td>0.0</td>\n",
       "      <td>0.0</td>\n",
       "      <td>0.0</td>\n",
       "    </tr>\n",
       "    <tr>\n",
       "      <th>3</th>\n",
       "      <td>0.0</td>\n",
       "      <td>0.0</td>\n",
       "      <td>0.0</td>\n",
       "      <td>0.0</td>\n",
       "      <td>0.0</td>\n",
       "      <td>0.0</td>\n",
       "      <td>0.0</td>\n",
       "      <td>0.0</td>\n",
       "      <td>0.0</td>\n",
       "      <td>0.0</td>\n",
       "      <td>...</td>\n",
       "      <td>0.0</td>\n",
       "      <td>0.0</td>\n",
       "      <td>0.0</td>\n",
       "      <td>0.0</td>\n",
       "      <td>0.0</td>\n",
       "      <td>0.0</td>\n",
       "      <td>0.0</td>\n",
       "      <td>0.0</td>\n",
       "      <td>0.0</td>\n",
       "      <td>0.0</td>\n",
       "    </tr>\n",
       "    <tr>\n",
       "      <th>4</th>\n",
       "      <td>0.0</td>\n",
       "      <td>0.0</td>\n",
       "      <td>0.0</td>\n",
       "      <td>0.0</td>\n",
       "      <td>0.0</td>\n",
       "      <td>0.0</td>\n",
       "      <td>0.0</td>\n",
       "      <td>0.0</td>\n",
       "      <td>0.0</td>\n",
       "      <td>0.0</td>\n",
       "      <td>...</td>\n",
       "      <td>0.0</td>\n",
       "      <td>0.0</td>\n",
       "      <td>0.0</td>\n",
       "      <td>0.0</td>\n",
       "      <td>0.0</td>\n",
       "      <td>0.0</td>\n",
       "      <td>0.0</td>\n",
       "      <td>0.0</td>\n",
       "      <td>0.0</td>\n",
       "      <td>0.0</td>\n",
       "    </tr>\n",
       "    <tr>\n",
       "      <th>5</th>\n",
       "      <td>0.0</td>\n",
       "      <td>0.0</td>\n",
       "      <td>0.0</td>\n",
       "      <td>0.0</td>\n",
       "      <td>0.0</td>\n",
       "      <td>0.0</td>\n",
       "      <td>0.0</td>\n",
       "      <td>0.0</td>\n",
       "      <td>0.0</td>\n",
       "      <td>0.0</td>\n",
       "      <td>...</td>\n",
       "      <td>0.0</td>\n",
       "      <td>0.0</td>\n",
       "      <td>0.0</td>\n",
       "      <td>0.0</td>\n",
       "      <td>0.0</td>\n",
       "      <td>0.0</td>\n",
       "      <td>0.0</td>\n",
       "      <td>0.0</td>\n",
       "      <td>0.0</td>\n",
       "      <td>0.0</td>\n",
       "    </tr>\n",
       "    <tr>\n",
       "      <th>...</th>\n",
       "      <td>...</td>\n",
       "      <td>...</td>\n",
       "      <td>...</td>\n",
       "      <td>...</td>\n",
       "      <td>...</td>\n",
       "      <td>...</td>\n",
       "      <td>...</td>\n",
       "      <td>...</td>\n",
       "      <td>...</td>\n",
       "      <td>...</td>\n",
       "      <td>...</td>\n",
       "      <td>...</td>\n",
       "      <td>...</td>\n",
       "      <td>...</td>\n",
       "      <td>...</td>\n",
       "      <td>...</td>\n",
       "      <td>...</td>\n",
       "      <td>...</td>\n",
       "      <td>...</td>\n",
       "      <td>...</td>\n",
       "      <td>...</td>\n",
       "    </tr>\n",
       "    <tr>\n",
       "      <th>9680</th>\n",
       "      <td>0.0</td>\n",
       "      <td>0.0</td>\n",
       "      <td>0.0</td>\n",
       "      <td>0.0</td>\n",
       "      <td>0.0</td>\n",
       "      <td>0.0</td>\n",
       "      <td>0.0</td>\n",
       "      <td>0.0</td>\n",
       "      <td>0.0</td>\n",
       "      <td>0.0</td>\n",
       "      <td>...</td>\n",
       "      <td>0.0</td>\n",
       "      <td>0.0</td>\n",
       "      <td>0.0</td>\n",
       "      <td>0.0</td>\n",
       "      <td>0.0</td>\n",
       "      <td>0.0</td>\n",
       "      <td>0.0</td>\n",
       "      <td>0.0</td>\n",
       "      <td>0.0</td>\n",
       "      <td>0.0</td>\n",
       "    </tr>\n",
       "    <tr>\n",
       "      <th>9681</th>\n",
       "      <td>0.0</td>\n",
       "      <td>0.0</td>\n",
       "      <td>0.0</td>\n",
       "      <td>0.0</td>\n",
       "      <td>0.0</td>\n",
       "      <td>0.0</td>\n",
       "      <td>0.0</td>\n",
       "      <td>0.0</td>\n",
       "      <td>0.0</td>\n",
       "      <td>0.0</td>\n",
       "      <td>...</td>\n",
       "      <td>0.0</td>\n",
       "      <td>0.0</td>\n",
       "      <td>0.0</td>\n",
       "      <td>0.0</td>\n",
       "      <td>1.0</td>\n",
       "      <td>0.0</td>\n",
       "      <td>0.0</td>\n",
       "      <td>0.0</td>\n",
       "      <td>0.0</td>\n",
       "      <td>0.0</td>\n",
       "    </tr>\n",
       "    <tr>\n",
       "      <th>9682</th>\n",
       "      <td>0.0</td>\n",
       "      <td>0.0</td>\n",
       "      <td>0.0</td>\n",
       "      <td>0.0</td>\n",
       "      <td>0.0</td>\n",
       "      <td>0.0</td>\n",
       "      <td>0.0</td>\n",
       "      <td>0.0</td>\n",
       "      <td>0.0</td>\n",
       "      <td>0.0</td>\n",
       "      <td>...</td>\n",
       "      <td>0.0</td>\n",
       "      <td>0.0</td>\n",
       "      <td>0.0</td>\n",
       "      <td>0.0</td>\n",
       "      <td>0.0</td>\n",
       "      <td>0.0</td>\n",
       "      <td>0.0</td>\n",
       "      <td>0.0</td>\n",
       "      <td>0.0</td>\n",
       "      <td>0.0</td>\n",
       "    </tr>\n",
       "    <tr>\n",
       "      <th>9683</th>\n",
       "      <td>0.0</td>\n",
       "      <td>0.0</td>\n",
       "      <td>0.0</td>\n",
       "      <td>0.0</td>\n",
       "      <td>0.0</td>\n",
       "      <td>0.0</td>\n",
       "      <td>0.0</td>\n",
       "      <td>0.0</td>\n",
       "      <td>0.0</td>\n",
       "      <td>0.0</td>\n",
       "      <td>...</td>\n",
       "      <td>0.0</td>\n",
       "      <td>0.0</td>\n",
       "      <td>0.0</td>\n",
       "      <td>0.0</td>\n",
       "      <td>0.0</td>\n",
       "      <td>0.0</td>\n",
       "      <td>0.0</td>\n",
       "      <td>0.0</td>\n",
       "      <td>0.0</td>\n",
       "      <td>0.0</td>\n",
       "    </tr>\n",
       "    <tr>\n",
       "      <th>9684</th>\n",
       "      <td>0.0</td>\n",
       "      <td>0.0</td>\n",
       "      <td>0.0</td>\n",
       "      <td>0.0</td>\n",
       "      <td>0.0</td>\n",
       "      <td>0.0</td>\n",
       "      <td>0.0</td>\n",
       "      <td>0.0</td>\n",
       "      <td>0.0</td>\n",
       "      <td>0.0</td>\n",
       "      <td>...</td>\n",
       "      <td>0.0</td>\n",
       "      <td>0.0</td>\n",
       "      <td>0.0</td>\n",
       "      <td>0.0</td>\n",
       "      <td>0.0</td>\n",
       "      <td>0.0</td>\n",
       "      <td>0.0</td>\n",
       "      <td>0.0</td>\n",
       "      <td>0.0</td>\n",
       "      <td>0.0</td>\n",
       "    </tr>\n",
       "  </tbody>\n",
       "</table>\n",
       "<p>9465 rows × 94 columns</p>\n",
       "</div>"
      ],
      "text/plain": [
       "Item         Adjustment  Afternoon with the baker  Alfajores  Argentina Night  \\\n",
       "Transaction                                                                     \n",
       "1                   0.0                       0.0        0.0              0.0   \n",
       "2                   0.0                       0.0        0.0              0.0   \n",
       "3                   0.0                       0.0        0.0              0.0   \n",
       "4                   0.0                       0.0        0.0              0.0   \n",
       "5                   0.0                       0.0        0.0              0.0   \n",
       "...                 ...                       ...        ...              ...   \n",
       "9680                0.0                       0.0        0.0              0.0   \n",
       "9681                0.0                       0.0        0.0              0.0   \n",
       "9682                0.0                       0.0        0.0              0.0   \n",
       "9683                0.0                       0.0        0.0              0.0   \n",
       "9684                0.0                       0.0        0.0              0.0   \n",
       "\n",
       "Item         Art Tray  Bacon  Baguette  Bakewell  Bare Popcorn  Basket  ...  \\\n",
       "Transaction                                                             ...   \n",
       "1                 0.0    0.0       0.0       0.0           0.0     0.0  ...   \n",
       "2                 0.0    0.0       0.0       0.0           0.0     0.0  ...   \n",
       "3                 0.0    0.0       0.0       0.0           0.0     0.0  ...   \n",
       "4                 0.0    0.0       0.0       0.0           0.0     0.0  ...   \n",
       "5                 0.0    0.0       0.0       0.0           0.0     0.0  ...   \n",
       "...               ...    ...       ...       ...           ...     ...  ...   \n",
       "9680              0.0    0.0       0.0       0.0           0.0     0.0  ...   \n",
       "9681              0.0    0.0       0.0       0.0           0.0     0.0  ...   \n",
       "9682              0.0    0.0       0.0       0.0           0.0     0.0  ...   \n",
       "9683              0.0    0.0       0.0       0.0           0.0     0.0  ...   \n",
       "9684              0.0    0.0       0.0       0.0           0.0     0.0  ...   \n",
       "\n",
       "Item         The BART  The Nomad  Tiffin  Toast  Truffles  Tshirt  \\\n",
       "Transaction                                                         \n",
       "1                 0.0        0.0     0.0    0.0       0.0     0.0   \n",
       "2                 0.0        0.0     0.0    0.0       0.0     0.0   \n",
       "3                 0.0        0.0     0.0    0.0       0.0     0.0   \n",
       "4                 0.0        0.0     0.0    0.0       0.0     0.0   \n",
       "5                 0.0        0.0     0.0    0.0       0.0     0.0   \n",
       "...               ...        ...     ...    ...       ...     ...   \n",
       "9680              0.0        0.0     0.0    0.0       0.0     0.0   \n",
       "9681              0.0        0.0     0.0    0.0       1.0     0.0   \n",
       "9682              0.0        0.0     0.0    0.0       0.0     0.0   \n",
       "9683              0.0        0.0     0.0    0.0       0.0     0.0   \n",
       "9684              0.0        0.0     0.0    0.0       0.0     0.0   \n",
       "\n",
       "Item         Valentine's card  Vegan Feast  Vegan mincepie  Victorian Sponge  \n",
       "Transaction                                                                   \n",
       "1                         0.0          0.0             0.0               0.0  \n",
       "2                         0.0          0.0             0.0               0.0  \n",
       "3                         0.0          0.0             0.0               0.0  \n",
       "4                         0.0          0.0             0.0               0.0  \n",
       "5                         0.0          0.0             0.0               0.0  \n",
       "...                       ...          ...             ...               ...  \n",
       "9680                      0.0          0.0             0.0               0.0  \n",
       "9681                      0.0          0.0             0.0               0.0  \n",
       "9682                      0.0          0.0             0.0               0.0  \n",
       "9683                      0.0          0.0             0.0               0.0  \n",
       "9684                      0.0          0.0             0.0               0.0  \n",
       "\n",
       "[9465 rows x 94 columns]"
      ]
     },
     "execution_count": 27,
     "metadata": {},
     "output_type": "execute_result"
    }
   ],
   "source": [
    "hot_encoded_Bak"
   ]
  },
  {
   "cell_type": "markdown",
   "metadata": {
    "_uuid": "1366c4353d36074114aa8b6aba2ab5435305d975"
   },
   "source": [
    "Each row represents a transaction and column represents an item.Zero means no purchase and one means an item is purchased."
   ]
  },
  {
   "cell_type": "markdown",
   "metadata": {
    "_uuid": "084826312972a135d814ba2b28a40e318046b028"
   },
   "source": [
    "## Encoding the data set"
   ]
  },
  {
   "cell_type": "code",
   "execution_count": 28,
   "metadata": {
    "_kg_hide-input": true,
    "_uuid": "9940485369108f8ba1a7dda759a47bd44e1fc457",
    "execution": {
     "iopub.execute_input": "2021-09-27T15:52:51.416312Z",
     "iopub.status.busy": "2021-09-27T15:52:51.415958Z",
     "iopub.status.idle": "2021-09-27T15:52:52.124265Z",
     "shell.execute_reply": "2021-09-27T15:52:52.123545Z",
     "shell.execute_reply.started": "2021-09-27T15:52:51.416272Z"
    }
   },
   "outputs": [],
   "source": [
    "def encode_units(x):\n",
    "    if x <= 0:\n",
    "        return 0\n",
    "    if x >= 1:\n",
    "        return 1\n",
    "hot_encoded_Bak = hot_encoded_Bak.applymap(encode_units)\n"
   ]
  },
  {
   "cell_type": "code",
   "execution_count": 29,
   "metadata": {
    "_kg_hide-input": true,
    "_uuid": "2b39c6259b2d18488fc7f983694d31d7fcc9190b",
    "execution": {
     "iopub.execute_input": "2021-09-27T15:52:52.125641Z",
     "iopub.status.busy": "2021-09-27T15:52:52.125233Z",
     "iopub.status.idle": "2021-09-27T15:52:52.210512Z",
     "shell.execute_reply": "2021-09-27T15:52:52.209626Z",
     "shell.execute_reply.started": "2021-09-27T15:52:52.125597Z"
    }
   },
   "outputs": [],
   "source": [
    "frequent_itemsets = apriori(hot_encoded_Bak, min_support=0.01, use_colnames=True)"
   ]
  },
  {
   "cell_type": "code",
   "execution_count": 30,
   "metadata": {
    "_kg_hide-input": true,
    "_uuid": "2d33e0f362fd9fc9aee9cba0a304eda44d7ac70b",
    "execution": {
     "iopub.execute_input": "2021-09-27T15:52:52.212182Z",
     "iopub.status.busy": "2021-09-27T15:52:52.211763Z",
     "iopub.status.idle": "2021-09-27T15:52:52.253217Z",
     "shell.execute_reply": "2021-09-27T15:52:52.252372Z",
     "shell.execute_reply.started": "2021-09-27T15:52:52.212137Z"
    }
   },
   "outputs": [
    {
     "data": {
      "text/html": [
       "<div>\n",
       "<style scoped>\n",
       "    .dataframe tbody tr th:only-of-type {\n",
       "        vertical-align: middle;\n",
       "    }\n",
       "\n",
       "    .dataframe tbody tr th {\n",
       "        vertical-align: top;\n",
       "    }\n",
       "\n",
       "    .dataframe thead th {\n",
       "        text-align: right;\n",
       "    }\n",
       "</style>\n",
       "<table border=\"1\" class=\"dataframe\">\n",
       "  <thead>\n",
       "    <tr style=\"text-align: right;\">\n",
       "      <th></th>\n",
       "      <th>antecedents</th>\n",
       "      <th>consequents</th>\n",
       "      <th>antecedent support</th>\n",
       "      <th>consequent support</th>\n",
       "      <th>support</th>\n",
       "      <th>confidence</th>\n",
       "      <th>lift</th>\n",
       "      <th>leverage</th>\n",
       "      <th>conviction</th>\n",
       "    </tr>\n",
       "  </thead>\n",
       "  <tbody>\n",
       "    <tr>\n",
       "      <th>0</th>\n",
       "      <td>(Coffee)</td>\n",
       "      <td>(Alfajores)</td>\n",
       "      <td>0.478394</td>\n",
       "      <td>0.036344</td>\n",
       "      <td>0.019651</td>\n",
       "      <td>0.041078</td>\n",
       "      <td>1.130235</td>\n",
       "      <td>0.002264</td>\n",
       "      <td>1.004936</td>\n",
       "    </tr>\n",
       "    <tr>\n",
       "      <th>1</th>\n",
       "      <td>(Alfajores)</td>\n",
       "      <td>(Coffee)</td>\n",
       "      <td>0.036344</td>\n",
       "      <td>0.478394</td>\n",
       "      <td>0.019651</td>\n",
       "      <td>0.540698</td>\n",
       "      <td>1.130235</td>\n",
       "      <td>0.002264</td>\n",
       "      <td>1.135648</td>\n",
       "    </tr>\n",
       "    <tr>\n",
       "      <th>2</th>\n",
       "      <td>(Bread)</td>\n",
       "      <td>(Pastry)</td>\n",
       "      <td>0.327205</td>\n",
       "      <td>0.086107</td>\n",
       "      <td>0.029160</td>\n",
       "      <td>0.089119</td>\n",
       "      <td>1.034977</td>\n",
       "      <td>0.000985</td>\n",
       "      <td>1.003306</td>\n",
       "    </tr>\n",
       "    <tr>\n",
       "      <th>3</th>\n",
       "      <td>(Pastry)</td>\n",
       "      <td>(Bread)</td>\n",
       "      <td>0.086107</td>\n",
       "      <td>0.327205</td>\n",
       "      <td>0.029160</td>\n",
       "      <td>0.338650</td>\n",
       "      <td>1.034977</td>\n",
       "      <td>0.000985</td>\n",
       "      <td>1.017305</td>\n",
       "    </tr>\n",
       "    <tr>\n",
       "      <th>4</th>\n",
       "      <td>(Coffee)</td>\n",
       "      <td>(Brownie)</td>\n",
       "      <td>0.478394</td>\n",
       "      <td>0.040042</td>\n",
       "      <td>0.019651</td>\n",
       "      <td>0.041078</td>\n",
       "      <td>1.025860</td>\n",
       "      <td>0.000495</td>\n",
       "      <td>1.001080</td>\n",
       "    </tr>\n",
       "    <tr>\n",
       "      <th>5</th>\n",
       "      <td>(Brownie)</td>\n",
       "      <td>(Coffee)</td>\n",
       "      <td>0.040042</td>\n",
       "      <td>0.478394</td>\n",
       "      <td>0.019651</td>\n",
       "      <td>0.490765</td>\n",
       "      <td>1.025860</td>\n",
       "      <td>0.000495</td>\n",
       "      <td>1.024293</td>\n",
       "    </tr>\n",
       "    <tr>\n",
       "      <th>6</th>\n",
       "      <td>(Coffee)</td>\n",
       "      <td>(Cake)</td>\n",
       "      <td>0.478394</td>\n",
       "      <td>0.103856</td>\n",
       "      <td>0.054728</td>\n",
       "      <td>0.114399</td>\n",
       "      <td>1.101515</td>\n",
       "      <td>0.005044</td>\n",
       "      <td>1.011905</td>\n",
       "    </tr>\n",
       "    <tr>\n",
       "      <th>7</th>\n",
       "      <td>(Cake)</td>\n",
       "      <td>(Coffee)</td>\n",
       "      <td>0.103856</td>\n",
       "      <td>0.478394</td>\n",
       "      <td>0.054728</td>\n",
       "      <td>0.526958</td>\n",
       "      <td>1.101515</td>\n",
       "      <td>0.005044</td>\n",
       "      <td>1.102664</td>\n",
       "    </tr>\n",
       "    <tr>\n",
       "      <th>8</th>\n",
       "      <td>(Cake)</td>\n",
       "      <td>(Hot chocolate)</td>\n",
       "      <td>0.103856</td>\n",
       "      <td>0.058320</td>\n",
       "      <td>0.011410</td>\n",
       "      <td>0.109868</td>\n",
       "      <td>1.883874</td>\n",
       "      <td>0.005354</td>\n",
       "      <td>1.057910</td>\n",
       "    </tr>\n",
       "    <tr>\n",
       "      <th>9</th>\n",
       "      <td>(Hot chocolate)</td>\n",
       "      <td>(Cake)</td>\n",
       "      <td>0.058320</td>\n",
       "      <td>0.103856</td>\n",
       "      <td>0.011410</td>\n",
       "      <td>0.195652</td>\n",
       "      <td>1.883874</td>\n",
       "      <td>0.005354</td>\n",
       "      <td>1.114125</td>\n",
       "    </tr>\n",
       "  </tbody>\n",
       "</table>\n",
       "</div>"
      ],
      "text/plain": [
       "       antecedents      consequents  antecedent support  consequent support  \\\n",
       "0         (Coffee)      (Alfajores)            0.478394            0.036344   \n",
       "1      (Alfajores)         (Coffee)            0.036344            0.478394   \n",
       "2          (Bread)         (Pastry)            0.327205            0.086107   \n",
       "3         (Pastry)          (Bread)            0.086107            0.327205   \n",
       "4         (Coffee)        (Brownie)            0.478394            0.040042   \n",
       "5        (Brownie)         (Coffee)            0.040042            0.478394   \n",
       "6         (Coffee)           (Cake)            0.478394            0.103856   \n",
       "7           (Cake)         (Coffee)            0.103856            0.478394   \n",
       "8           (Cake)  (Hot chocolate)            0.103856            0.058320   \n",
       "9  (Hot chocolate)           (Cake)            0.058320            0.103856   \n",
       "\n",
       "    support  confidence      lift  leverage  conviction  \n",
       "0  0.019651    0.041078  1.130235  0.002264    1.004936  \n",
       "1  0.019651    0.540698  1.130235  0.002264    1.135648  \n",
       "2  0.029160    0.089119  1.034977  0.000985    1.003306  \n",
       "3  0.029160    0.338650  1.034977  0.000985    1.017305  \n",
       "4  0.019651    0.041078  1.025860  0.000495    1.001080  \n",
       "5  0.019651    0.490765  1.025860  0.000495    1.024293  \n",
       "6  0.054728    0.114399  1.101515  0.005044    1.011905  \n",
       "7  0.054728    0.526958  1.101515  0.005044    1.102664  \n",
       "8  0.011410    0.109868  1.883874  0.005354    1.057910  \n",
       "9  0.011410    0.195652  1.883874  0.005354    1.114125  "
      ]
     },
     "execution_count": 30,
     "metadata": {},
     "output_type": "execute_result"
    }
   ],
   "source": [
    "rules = association_rules(frequent_itemsets, metric=\"lift\", min_threshold=1)\n",
    "rules.head(10)"
   ]
  },
  {
   "cell_type": "code",
   "execution_count": 31,
   "metadata": {},
   "outputs": [
    {
     "data": {
      "text/html": [
       "<div>\n",
       "<style scoped>\n",
       "    .dataframe tbody tr th:only-of-type {\n",
       "        vertical-align: middle;\n",
       "    }\n",
       "\n",
       "    .dataframe tbody tr th {\n",
       "        vertical-align: top;\n",
       "    }\n",
       "\n",
       "    .dataframe thead th {\n",
       "        text-align: right;\n",
       "    }\n",
       "</style>\n",
       "<table border=\"1\" class=\"dataframe\">\n",
       "  <thead>\n",
       "    <tr style=\"text-align: right;\">\n",
       "      <th></th>\n",
       "      <th>antecedents</th>\n",
       "      <th>consequents</th>\n",
       "      <th>antecedent support</th>\n",
       "      <th>consequent support</th>\n",
       "      <th>support</th>\n",
       "      <th>confidence</th>\n",
       "      <th>lift</th>\n",
       "      <th>leverage</th>\n",
       "      <th>conviction</th>\n",
       "    </tr>\n",
       "  </thead>\n",
       "  <tbody>\n",
       "    <tr>\n",
       "      <th>31</th>\n",
       "      <td>(Toast)</td>\n",
       "      <td>(Coffee)</td>\n",
       "      <td>0.033597</td>\n",
       "      <td>0.478394</td>\n",
       "      <td>0.023666</td>\n",
       "      <td>0.704403</td>\n",
       "      <td>1.472431</td>\n",
       "      <td>0.007593</td>\n",
       "      <td>1.764582</td>\n",
       "    </tr>\n",
       "    <tr>\n",
       "      <th>29</th>\n",
       "      <td>(Spanish Brunch)</td>\n",
       "      <td>(Coffee)</td>\n",
       "      <td>0.018172</td>\n",
       "      <td>0.478394</td>\n",
       "      <td>0.010882</td>\n",
       "      <td>0.598837</td>\n",
       "      <td>1.251766</td>\n",
       "      <td>0.002189</td>\n",
       "      <td>1.300235</td>\n",
       "    </tr>\n",
       "    <tr>\n",
       "      <th>19</th>\n",
       "      <td>(Medialuna)</td>\n",
       "      <td>(Coffee)</td>\n",
       "      <td>0.061807</td>\n",
       "      <td>0.478394</td>\n",
       "      <td>0.035182</td>\n",
       "      <td>0.569231</td>\n",
       "      <td>1.189878</td>\n",
       "      <td>0.005614</td>\n",
       "      <td>1.210871</td>\n",
       "    </tr>\n",
       "    <tr>\n",
       "      <th>23</th>\n",
       "      <td>(Pastry)</td>\n",
       "      <td>(Coffee)</td>\n",
       "      <td>0.086107</td>\n",
       "      <td>0.478394</td>\n",
       "      <td>0.047544</td>\n",
       "      <td>0.552147</td>\n",
       "      <td>1.154168</td>\n",
       "      <td>0.006351</td>\n",
       "      <td>1.164682</td>\n",
       "    </tr>\n",
       "    <tr>\n",
       "      <th>1</th>\n",
       "      <td>(Alfajores)</td>\n",
       "      <td>(Coffee)</td>\n",
       "      <td>0.036344</td>\n",
       "      <td>0.478394</td>\n",
       "      <td>0.019651</td>\n",
       "      <td>0.540698</td>\n",
       "      <td>1.130235</td>\n",
       "      <td>0.002264</td>\n",
       "      <td>1.135648</td>\n",
       "    </tr>\n",
       "    <tr>\n",
       "      <th>17</th>\n",
       "      <td>(Juice)</td>\n",
       "      <td>(Coffee)</td>\n",
       "      <td>0.038563</td>\n",
       "      <td>0.478394</td>\n",
       "      <td>0.020602</td>\n",
       "      <td>0.534247</td>\n",
       "      <td>1.116750</td>\n",
       "      <td>0.002154</td>\n",
       "      <td>1.119919</td>\n",
       "    </tr>\n",
       "    <tr>\n",
       "      <th>25</th>\n",
       "      <td>(Sandwich)</td>\n",
       "      <td>(Coffee)</td>\n",
       "      <td>0.071844</td>\n",
       "      <td>0.478394</td>\n",
       "      <td>0.038246</td>\n",
       "      <td>0.532353</td>\n",
       "      <td>1.112792</td>\n",
       "      <td>0.003877</td>\n",
       "      <td>1.115384</td>\n",
       "    </tr>\n",
       "    <tr>\n",
       "      <th>7</th>\n",
       "      <td>(Cake)</td>\n",
       "      <td>(Coffee)</td>\n",
       "      <td>0.103856</td>\n",
       "      <td>0.478394</td>\n",
       "      <td>0.054728</td>\n",
       "      <td>0.526958</td>\n",
       "      <td>1.101515</td>\n",
       "      <td>0.005044</td>\n",
       "      <td>1.102664</td>\n",
       "    </tr>\n",
       "    <tr>\n",
       "      <th>27</th>\n",
       "      <td>(Scone)</td>\n",
       "      <td>(Coffee)</td>\n",
       "      <td>0.034548</td>\n",
       "      <td>0.478394</td>\n",
       "      <td>0.018067</td>\n",
       "      <td>0.522936</td>\n",
       "      <td>1.093107</td>\n",
       "      <td>0.001539</td>\n",
       "      <td>1.093366</td>\n",
       "    </tr>\n",
       "    <tr>\n",
       "      <th>13</th>\n",
       "      <td>(Cookies)</td>\n",
       "      <td>(Coffee)</td>\n",
       "      <td>0.054411</td>\n",
       "      <td>0.478394</td>\n",
       "      <td>0.028209</td>\n",
       "      <td>0.518447</td>\n",
       "      <td>1.083723</td>\n",
       "      <td>0.002179</td>\n",
       "      <td>1.083174</td>\n",
       "    </tr>\n",
       "  </tbody>\n",
       "</table>\n",
       "</div>"
      ],
      "text/plain": [
       "         antecedents consequents  antecedent support  consequent support  \\\n",
       "31           (Toast)    (Coffee)            0.033597            0.478394   \n",
       "29  (Spanish Brunch)    (Coffee)            0.018172            0.478394   \n",
       "19       (Medialuna)    (Coffee)            0.061807            0.478394   \n",
       "23          (Pastry)    (Coffee)            0.086107            0.478394   \n",
       "1        (Alfajores)    (Coffee)            0.036344            0.478394   \n",
       "17           (Juice)    (Coffee)            0.038563            0.478394   \n",
       "25        (Sandwich)    (Coffee)            0.071844            0.478394   \n",
       "7             (Cake)    (Coffee)            0.103856            0.478394   \n",
       "27           (Scone)    (Coffee)            0.034548            0.478394   \n",
       "13         (Cookies)    (Coffee)            0.054411            0.478394   \n",
       "\n",
       "     support  confidence      lift  leverage  conviction  \n",
       "31  0.023666    0.704403  1.472431  0.007593    1.764582  \n",
       "29  0.010882    0.598837  1.251766  0.002189    1.300235  \n",
       "19  0.035182    0.569231  1.189878  0.005614    1.210871  \n",
       "23  0.047544    0.552147  1.154168  0.006351    1.164682  \n",
       "1   0.019651    0.540698  1.130235  0.002264    1.135648  \n",
       "17  0.020602    0.534247  1.116750  0.002154    1.119919  \n",
       "25  0.038246    0.532353  1.112792  0.003877    1.115384  \n",
       "7   0.054728    0.526958  1.101515  0.005044    1.102664  \n",
       "27  0.018067    0.522936  1.093107  0.001539    1.093366  \n",
       "13  0.028209    0.518447  1.083723  0.002179    1.083174  "
      ]
     },
     "execution_count": 31,
     "metadata": {},
     "output_type": "execute_result"
    }
   ],
   "source": [
    "rules.sort_values('confidence', ascending = False, inplace=True)\n",
    "rules.head(10)"
   ]
  },
  {
   "cell_type": "code",
   "execution_count": 32,
   "metadata": {
    "_kg_hide-input": true,
    "_uuid": "8849a9942fcc3004f1ed5d95330dbf159180a008",
    "execution": {
     "iopub.execute_input": "2021-09-27T15:52:52.254729Z",
     "iopub.status.busy": "2021-09-27T15:52:52.254275Z",
     "iopub.status.idle": "2021-09-27T15:52:52.293695Z",
     "shell.execute_reply": "2021-09-27T15:52:52.292894Z",
     "shell.execute_reply.started": "2021-09-27T15:52:52.254676Z"
    }
   },
   "outputs": [
    {
     "data": {
      "text/html": [
       "<div>\n",
       "<style scoped>\n",
       "    .dataframe tbody tr th:only-of-type {\n",
       "        vertical-align: middle;\n",
       "    }\n",
       "\n",
       "    .dataframe tbody tr th {\n",
       "        vertical-align: top;\n",
       "    }\n",
       "\n",
       "    .dataframe thead th {\n",
       "        text-align: right;\n",
       "    }\n",
       "</style>\n",
       "<table border=\"1\" class=\"dataframe\">\n",
       "  <thead>\n",
       "    <tr style=\"text-align: right;\">\n",
       "      <th></th>\n",
       "      <th>antecedents</th>\n",
       "      <th>consequents</th>\n",
       "      <th>antecedent support</th>\n",
       "      <th>consequent support</th>\n",
       "      <th>support</th>\n",
       "      <th>confidence</th>\n",
       "      <th>lift</th>\n",
       "      <th>leverage</th>\n",
       "      <th>conviction</th>\n",
       "    </tr>\n",
       "  </thead>\n",
       "  <tbody>\n",
       "    <tr>\n",
       "      <th>31</th>\n",
       "      <td>(Toast)</td>\n",
       "      <td>(Coffee)</td>\n",
       "      <td>0.033597</td>\n",
       "      <td>0.478394</td>\n",
       "      <td>0.023666</td>\n",
       "      <td>0.704403</td>\n",
       "      <td>1.472431</td>\n",
       "      <td>0.007593</td>\n",
       "      <td>1.764582</td>\n",
       "    </tr>\n",
       "    <tr>\n",
       "      <th>29</th>\n",
       "      <td>(Spanish Brunch)</td>\n",
       "      <td>(Coffee)</td>\n",
       "      <td>0.018172</td>\n",
       "      <td>0.478394</td>\n",
       "      <td>0.010882</td>\n",
       "      <td>0.598837</td>\n",
       "      <td>1.251766</td>\n",
       "      <td>0.002189</td>\n",
       "      <td>1.300235</td>\n",
       "    </tr>\n",
       "    <tr>\n",
       "      <th>19</th>\n",
       "      <td>(Medialuna)</td>\n",
       "      <td>(Coffee)</td>\n",
       "      <td>0.061807</td>\n",
       "      <td>0.478394</td>\n",
       "      <td>0.035182</td>\n",
       "      <td>0.569231</td>\n",
       "      <td>1.189878</td>\n",
       "      <td>0.005614</td>\n",
       "      <td>1.210871</td>\n",
       "    </tr>\n",
       "  </tbody>\n",
       "</table>\n",
       "</div>"
      ],
      "text/plain": [
       "         antecedents consequents  antecedent support  consequent support  \\\n",
       "31           (Toast)    (Coffee)            0.033597            0.478394   \n",
       "29  (Spanish Brunch)    (Coffee)            0.018172            0.478394   \n",
       "19       (Medialuna)    (Coffee)            0.061807            0.478394   \n",
       "\n",
       "     support  confidence      lift  leverage  conviction  \n",
       "31  0.023666    0.704403  1.472431  0.007593    1.764582  \n",
       "29  0.010882    0.598837  1.251766  0.002189    1.300235  \n",
       "19  0.035182    0.569231  1.189878  0.005614    1.210871  "
      ]
     },
     "execution_count": 32,
     "metadata": {},
     "output_type": "execute_result"
    }
   ],
   "source": [
    "rules[ (rules['lift'] >= 1.17) &\n",
    "       (rules['confidence'] >= 0.5) ]"
   ]
  },
  {
   "cell_type": "markdown",
   "metadata": {
    "_uuid": "c2245c754efbac73e16e638b6eb875beb1176948"
   },
   "source": [
    "The combition of toast and coffee has the maximum lift of 1.48.This means most cases people buying toast also buy coffee.Support 0.023 means that 2.3% of the transaction contains toast..Confidence of 0.70 means 70% of the toast purchases are accompanied with coffee..Lift 1.47 means that coffee is 1.47 times more likely to be brought when toast is brought."
   ]
  },
  {
   "cell_type": "code",
   "execution_count": null,
   "metadata": {},
   "outputs": [],
   "source": []
  }
 ],
 "metadata": {
  "kernelspec": {
   "display_name": "Python 3",
   "language": "python",
   "name": "python3"
  },
  "language_info": {
   "codemirror_mode": {
    "name": "ipython",
    "version": 3
   },
   "file_extension": ".py",
   "mimetype": "text/x-python",
   "name": "python",
   "nbconvert_exporter": "python",
   "pygments_lexer": "ipython3",
   "version": "3.8.3"
  }
 },
 "nbformat": 4,
 "nbformat_minor": 4
}
